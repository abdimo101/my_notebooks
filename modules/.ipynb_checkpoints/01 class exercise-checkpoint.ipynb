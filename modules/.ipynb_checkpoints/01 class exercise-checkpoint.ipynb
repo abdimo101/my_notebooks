{
 "cells": [
  {
   "cell_type": "markdown",
   "metadata": {},
   "source": [
    "# Class exercise 1"
   ]
  },
  {
   "cell_type": "markdown",
   "metadata": {},
   "source": [
    "![](https://miro.medium.com/max/1266/1*Pb8oEA1nGIONsSJk7QSVzg.png)"
   ]
  },
  {
   "cell_type": "code",
   "execution_count": 3,
   "metadata": {},
   "outputs": [
    {
     "name": "stdout",
     "output_type": "stream",
     "text": [
      "Give me the first number:5\n",
      "Give me the second number:5\n",
      "25\n"
     ]
    }
   ],
   "source": [
    "userint1 = input(\"Give me the first number:\")\n",
    "userint2 = input(\"Give me the second number:\")\n",
    "\n",
    "userint1 = int(userint1)\n",
    "userint2 = int(userint2)\n",
    "\n",
    "print(userint1 * userint2)"
   ]
  }
 ],
 "metadata": {
  "kernelspec": {
   "display_name": "Python 3",
   "language": "python",
   "name": "python3"
  },
  "language_info": {
   "codemirror_mode": {
    "name": "ipython",
    "version": 3
   },
   "file_extension": ".py",
   "mimetype": "text/x-python",
   "name": "python",
   "nbconvert_exporter": "python",
   "pygments_lexer": "ipython3",
   "version": "3.7.6"
  }
 },
 "nbformat": 4,
 "nbformat_minor": 4
}
