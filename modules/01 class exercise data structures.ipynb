{
 "cells": [
  {
   "cell_type": "markdown",
   "metadata": {},
   "source": [
    "# 1-3"
   ]
  },
  {
   "cell_type": "code",
   "execution_count": 4,
   "metadata": {},
   "outputs": [
    {
     "name": "stdout",
     "output_type": "stream",
     "text": [
      "Type in the date using the form 8-MAR-85:8-FEB-85\n",
      "8-2-85\n"
     ]
    }
   ],
   "source": [
    "inp = input(\"Type in the date using the form 8-MAR-85:\")\n",
    "month = {'JAN': 1, 'FEB': 2, 'MAR': 3, 'APR': 4, 'MAJ': 5, 'JUN': 6, 'JUL': 7, 'AUG':8, 'SEP': 9, 'OKT':10,\n",
    "         'NOV': 11, 'DEC': 12}\n",
    "splitted = inp.split(\"-\")\n",
    "splitted[1] = month[splitted[1].upper()[0:3]]\n",
    "\n",
    "print(splitted[0]+ '-' + str(splitted[1])+ '-'  + splitted[2]) \n"
   ]
  },
  {
   "cell_type": "markdown",
   "metadata": {},
   "source": [
    "# 4"
   ]
  },
  {
   "cell_type": "code",
   "execution_count": null,
   "metadata": {},
   "outputs": [],
   "source": []
  }
 ],
 "metadata": {
  "kernelspec": {
   "display_name": "Python 3",
   "language": "python",
   "name": "python3"
  },
  "language_info": {
   "codemirror_mode": {
    "name": "ipython",
    "version": 3
   },
   "file_extension": ".py",
   "mimetype": "text/x-python",
   "name": "python",
   "nbconvert_exporter": "python",
   "pygments_lexer": "ipython3",
   "version": "3.7.6"
  }
 },
 "nbformat": 4,
 "nbformat_minor": 4
}
