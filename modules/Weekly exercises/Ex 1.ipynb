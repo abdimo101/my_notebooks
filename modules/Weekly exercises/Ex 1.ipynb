{
 "cells": [
  {
   "cell_type": "markdown",
   "metadata": {},
   "source": [
    "# 1. Create 5 list comprehensions to solve the following 5 problems:"
   ]
  },
  {
   "cell_type": "code",
   "execution_count": 9,
   "metadata": {
    "scrolled": true
   },
   "outputs": [
    {
     "name": "stdout",
     "output_type": "stream",
     "text": [
      "['Henry', 'Hector', 'Ludvig', 'Thor']\n",
      "['Henry', 'Hector']\n"
     ]
    }
   ],
   "source": [
    "#A: Iterate a list of names to return a list of the names starting with H\n",
    "names_list = ['Henry', 'Hector', 'Ludvig', 'Thor']\n",
    "print(names_list)\n",
    "result_list = [name for name in names_list if name.lower().startswith('h')]\n",
    "print(result_list)"
   ]
  },
  {
   "cell_type": "code",
   "execution_count": 4,
   "metadata": {},
   "outputs": [
    {
     "name": "stdout",
     "output_type": "stream",
     "text": [
      "[1, 8, 27, 64, 125, 216, 343, 512, 729, 1000, 1331, 1728, 2197, 2744, 3375, 4096, 4913, 5832, 6859, 8000, 9261, 10648, 12167, 13824, 15625, 17576, 19683, 21952, 24389, 27000, 29791, 32768, 35937, 39304, 42875, 46656, 50653, 54872, 59319, 64000, 68921, 74088, 79507, 85184, 91125, 97336, 103823, 110592, 117649, 125000, 132651, 140608, 148877, 157464, 166375, 175616, 185193, 195112, 205379, 216000, 226981, 238328, 250047, 262144, 274625, 287496, 300763, 314432, 328509, 343000, 357911, 373248, 389017, 405224, 421875, 438976, 456533, 474552, 493039, 512000, 531441, 551368, 571787, 592704, 614125, 636056, 658503, 681472, 704969, 729000, 753571, 778688, 804357, 830584, 857375, 884736, 912673, 941192, 970299]\n"
     ]
    }
   ],
   "source": [
    "#B: In one line create a list of the numbers 1-100 to the power of 3\n",
    "number_list = [i**3 for i in range(1, 100)]\n",
    "print(number_list)"
   ]
  },
  {
   "cell_type": "code",
   "execution_count": 10,
   "metadata": {},
   "outputs": [
    {
     "name": "stdout",
     "output_type": "stream",
     "text": [
      "[(5, 'Henry'), (6, 'Hector'), (6, 'Ludvig'), (4, 'Thor')]\n"
     ]
    }
   ],
   "source": [
    "#C: Iterate a list of names to create a list of tuples where the tuples first value is the length of the name\n",
    "# and the second is the name\n",
    "names_list = ['Henry', 'Hector', 'Ludvig', 'Thor']\n",
    "result_list2 = [(len(name), name) for name in names_list]\n",
    "print(result_list2)"
   ]
  },
  {
   "cell_type": "code",
   "execution_count": 12,
   "metadata": {},
   "outputs": [
    {
     "name": "stdout",
     "output_type": "stream",
     "text": [
      "['7', '7', '3', '9', '3', '9', '8', '3', '7', '9', '8', '1']\n"
     ]
    }
   ],
   "source": [
    "#D: Iterate over each character in a string and get only those that are nummeric\n",
    "stringtxt = \"dlfhg7jf7id39mdij3kd9kdjg8fjsksajeu3kdfnf7kksnd9njdk8kdkasdnj1kmd\"\n",
    "result_list3 = [i for i in stringtxt if i.isnumeric()]\n",
    "print(result_list3)"
   ]
  },
  {
   "cell_type": "code",
   "execution_count": 17,
   "metadata": {},
   "outputs": [
    {
     "data": {
      "text/plain": [
       "{(1, 1),\n",
       " (1, 2),\n",
       " (1, 3),\n",
       " (1, 4),\n",
       " (1, 5),\n",
       " (1, 6),\n",
       " (2, 1),\n",
       " (2, 2),\n",
       " (2, 3),\n",
       " (2, 4),\n",
       " (2, 5),\n",
       " (2, 6),\n",
       " (3, 1),\n",
       " (3, 2),\n",
       " (3, 3),\n",
       " (3, 4),\n",
       " (3, 5),\n",
       " (3, 6),\n",
       " (4, 1),\n",
       " (4, 2),\n",
       " (4, 3),\n",
       " (4, 4),\n",
       " (4, 5),\n",
       " (4, 6),\n",
       " (5, 1),\n",
       " (5, 2),\n",
       " (5, 3),\n",
       " (5, 4),\n",
       " (5, 5),\n",
       " (5, 6),\n",
       " (6, 1),\n",
       " (6, 2),\n",
       " (6, 3),\n",
       " (6, 4),\n",
       " (6, 5),\n",
       " (6, 6)}"
      ]
     },
     "execution_count": 17,
     "metadata": {},
     "output_type": "execute_result"
    }
   ],
   "source": [
    "#E: Using only a list comprehension wrapped in set() get all possible combinations from throwing 2 dice \n",
    "#(hint use 2 for loops in a single list comprehension). \n",
    "#Result should look like: [2,3,4,5,6,7,8,...] \n",
    "#or a more complex/accurate solution: [(1,1),(1,2)...] in a way that (1,2) is equal to (2,1).\n",
    "\n",
    "result_list4 = set([(dice1, dice2) for dice1 in range(1, 7) for dice2 in range(1,7)])\n",
    "result_list4"
   ]
  },
  {
   "cell_type": "markdown",
   "metadata": {},
   "source": [
    "# 2. Create 2 dictionary comprehensions to solve the following:"
   ]
  },
  {
   "cell_type": "code",
   "execution_count": 26,
   "metadata": {},
   "outputs": [
    {
     "name": "stdout",
     "output_type": "stream",
     "text": [
      "[{5: 'Henry', 'Hector': 6, 'Ludvig': 6, 'Thor': 4}]\n"
     ]
    }
   ],
   "source": [
    "#A: Iterate a list of names and create a dictionary where key is the name and value is the length of the name\n",
    "result_list5 = [dict({names, len(names)} for names in names_list)]\n",
    "print(result_list5)"
   ]
  },
  {
   "cell_type": "code",
   "execution_count": 1,
   "metadata": {},
   "outputs": [
    {
     "name": "stdout",
     "output_type": "stream",
     "text": [
      "[{1: 1.0, 2: 1.4142135623730951, 3: 1.7320508075688772, 5: 2.23606797749979, 8: 2.8284271247461903, 13: 3.605551275463989, 21: 4.58257569495584, 34: 5.830951894845301, 55: 7.416198487095663, 89: 9.433981132056603, 144: 12.0, 233: 15.264337522473747}]\n"
     ]
    }
   ],
   "source": [
    "#B: Iterate a list of numbers and create a dictionary with {key:value} being {number:squareroot_of_number}\n",
    "import math \n",
    "fibonumbers = [1, 1, 2, 3, 5, 8, 13, 21, 34, 55, 89, 144, 233]\n",
    "result_list6 = [dict((number, math.sqrt(number)) for number in fibonumbers)]\n",
    "print(result_list6)"
   ]
  }
 ],
 "metadata": {
  "kernelspec": {
   "display_name": "Python 3",
   "language": "python",
   "name": "python3"
  },
  "language_info": {
   "codemirror_mode": {
    "name": "ipython",
    "version": 3
   },
   "file_extension": ".py",
   "mimetype": "text/x-python",
   "name": "python",
   "nbconvert_exporter": "python",
   "pygments_lexer": "ipython3",
   "version": "3.7.6"
  }
 },
 "nbformat": 4,
 "nbformat_minor": 4
}
