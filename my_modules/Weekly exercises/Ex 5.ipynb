{
 "cells": [
  {
   "cell_type": "markdown",
   "metadata": {},
   "source": [
    "## Exercises with pandas"
   ]
  },
  {
   "cell_type": "code",
   "execution_count": 10,
   "metadata": {},
   "outputs": [
    {
     "name": "stdout",
     "output_type": "stream",
     "text": [
      "28.809832487688404 %\n"
     ]
    }
   ],
   "source": [
    "import pandas as pd\n",
    "# What is the change in pct of divorced danes from 2008 to 2020?\n",
    "def divorced_danes():\n",
    "    data = pd.read_csv(\"https://api.statbank.dk/v1/data/FOLK1A/CSV?delimiter=Semicolon&CIVILSTAND(Head)=F&Tid(Head)=2008K1%2C2020K4&OMR%C3%85DE(Head)=000\", sep=\";\")\n",
    "    year08 = data.iloc[0,3]\n",
    "    year20 = data.iloc[1,3]\n",
    "    diff = year20 - year08\n",
    "    percent = diff / year08 * 100\n",
    "    return percent\n",
    "# Which of the 5 biggest cities has the highest percentage of 'Never Married' in 2020?\n",
    "def never_married():\n",
    "    \n",
    "\n",
    "#print(divorced_danes(),\"%\")\n"
   ]
  }
 ],
 "metadata": {
  "kernelspec": {
   "display_name": "Python 3",
   "language": "python",
   "name": "python3"
  },
  "language_info": {
   "codemirror_mode": {
    "name": "ipython",
    "version": 3
   },
   "file_extension": ".py",
   "mimetype": "text/x-python",
   "name": "python",
   "nbconvert_exporter": "python",
   "pygments_lexer": "ipython3",
   "version": "3.7.6"
  }
 },
 "nbformat": 4,
 "nbformat_minor": 4
}
