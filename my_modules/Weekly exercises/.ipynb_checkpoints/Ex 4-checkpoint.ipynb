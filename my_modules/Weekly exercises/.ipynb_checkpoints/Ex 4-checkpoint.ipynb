{
 "cells": [
  {
   "cell_type": "markdown",
   "metadata": {},
   "source": [
    "## Exercises with Numpy"
   ]
  },
  {
   "cell_type": "code",
   "execution_count": 8,
   "metadata": {},
   "outputs": [
    {
     "name": "stdout",
     "output_type": "stream",
     "text": [
      "[51937 75113 78802 61623 51727 39537 43908 53604 55205 64967  3872]\n",
      "55750.0\n"
     ]
    }
   ],
   "source": [
    "import numpy as np\n",
    "bef_stats_df = np.genfromtxt(\"../../../data/befkbhalderstatkode.csv\", delimiter=',', dtype=np.uint, skip_header=1)\n",
    "dd = bef_stats_df\n",
    "\n",
    "neighb = {1: 'Indre By', 2: 'Østerbro', 3: 'Nørrebro', 4: 'Vesterbro/Kgs. Enghave', \n",
    "       5: 'Valby', 6: 'Vanløse', 7: 'Brønshøj-Husum', 8: 'Bispebjerg', 9: 'Amager Øst', \n",
    "       10: 'Amager Vest', 99: 'Udenfor'}\n",
    "def area_pop():\n",
    "    year_mask = dd[:,0] == 2015\n",
    "    areas = np.unique(dd[:,1])\n",
    "    res = np.array([np.sum(dd[year_mask & (dd[:,1] == area)][:,4]) for area in areas])\n",
    "    return res\n",
    "\n",
    "def people_over_65():\n",
    "    mask = (dd[:,0] == 2015) & (dd[:,2] > 65)\n",
    "    return sum(dd[mask][:,4])\n",
    "\n",
    "print(area_pop())\n",
    "print(people_over_65())\n",
    "    "
   ]
  }
 ],
 "metadata": {
  "kernelspec": {
   "display_name": "Python 3",
   "language": "python",
   "name": "python3"
  },
  "language_info": {
   "codemirror_mode": {
    "name": "ipython",
    "version": 3
   },
   "file_extension": ".py",
   "mimetype": "text/x-python",
   "name": "python",
   "nbconvert_exporter": "python",
   "pygments_lexer": "ipython3",
   "version": "3.7.6"
  }
 },
 "nbformat": 4,
 "nbformat_minor": 4
}
