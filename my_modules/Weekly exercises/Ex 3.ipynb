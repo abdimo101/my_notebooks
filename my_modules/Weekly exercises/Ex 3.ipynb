{
 "cells": [
  {
   "cell_type": "markdown",
   "metadata": {},
   "source": [
    "# Ex 1 Classes"
   ]
  },
  {
   "cell_type": "code",
   "execution_count": 21,
   "metadata": {},
   "outputs": [],
   "source": [
    "class Student():\n",
    "    \n",
    "    def __init__(self, name, gender, data_sheet, image_url):\n",
    "        self.name = name\n",
    "        self.gender = gender\n",
    "        self.data_sheet = data_sheet\n",
    "        self.image_url = image_url\n",
    "        \n",
    "    def get_avg_grade(self):\n",
    "        grades_list = self.data_sheet.get_grades_as_list()\n",
    "        return sum(grades_list)/len(grades_list)"
   ]
  },
  {
   "cell_type": "code",
   "execution_count": 42,
   "metadata": {},
   "outputs": [],
   "source": [
    "class DataSheet():\n",
    "    def __init__(self, courses=[]):\n",
    "        self.courses = courses \n",
    "    def get_grades_as_list(self):\n",
    "        return [course.grade for course in self.courses if course.grade != None]\n",
    "        "
   ]
  },
  {
   "cell_type": "code",
   "execution_count": 35,
   "metadata": {},
   "outputs": [],
   "source": [
    "class Course():\n",
    "    def __init__(self, name, classroom, teacher, ETCS, grade=None):\n",
    "        self.name = name\n",
    "        self.classroom = classroom\n",
    "        self.teacher = teacher\n",
    "        self.ETCS = ETCS\n",
    "        self.grade = grade"
   ]
  },
  {
   "cell_type": "code",
   "execution_count": 45,
   "metadata": {},
   "outputs": [
    {
     "name": "stdout",
     "output_type": "stream",
     "text": [
      "7.666666666666667\n",
      "[12, 7, 4]\n"
     ]
    }
   ],
   "source": [
    "course_list = []\n",
    "course_list.append(Course(\"Sikkerhed\", \"105\",\"Daniel\", 150, 12))\n",
    "course_list.append(Course(\"Python\", \"105\",\"Thomas\", 150, 7))\n",
    "course_list.append(Course(\"Robotter og Automatisering\", \"105\", \"Tobias\", 150, 4))\n",
    "ds1 = DataSheet(course_list)\n",
    "stud1 = Student(\"Abdi\", \"Male\", ds1, \"image.png\")\n",
    "stud2 = Student(\"Mikkel\", \"Male\", ds1, \"image.png\")\n",
    "stud3 = Student(\"Nicolai\", \"Male\", ds1, \"image.png\")\n",
    "stud4 = Student(\"Thomas\", \"Male\", ds1, \"image.png\")\n",
    "\n",
    "print(stud1.get_avg_grade())\n",
    "print(ds1.get_grades_as_list())"
   ]
  }
 ],
 "metadata": {
  "kernelspec": {
   "display_name": "Python 3",
   "language": "python",
   "name": "python3"
  },
  "language_info": {
   "codemirror_mode": {
    "name": "ipython",
    "version": 3
   },
   "file_extension": ".py",
   "mimetype": "text/x-python",
   "name": "python",
   "nbconvert_exporter": "python",
   "pygments_lexer": "ipython3",
   "version": "3.7.6"
  }
 },
 "nbformat": 4,
 "nbformat_minor": 4
}
