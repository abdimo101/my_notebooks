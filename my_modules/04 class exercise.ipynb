{
 "cells": [
  {
   "cell_type": "markdown",
   "metadata": {},
   "source": [
    "### Class exercise: table\n",
    "![](http://127.0.0.1:8888/files/images/numpy_slice_ex.png)\n",
    "- on the above image find the 5 different slicings using only the array slicing notation"
   ]
  },
  {
   "cell_type": "code",
   "execution_count": 18,
   "metadata": {},
   "outputs": [
    {
     "name": "stdout",
     "output_type": "stream",
     "text": [
      "yellow: 10 \n",
      "cyan: [[11 13]\n",
      " [16 18]\n",
      " [21 23]\n",
      " [26 28]] \n",
      "green: [12 17 22] \n",
      "blue: [14 24] \n",
      "red: [11 12 13]\n"
     ]
    }
   ],
   "source": [
    "import numpy as np\n",
    "a = np.arange(10, 30).reshape(4, 5)\n",
    "yellow = a[0, 0]\n",
    "cyan = a[:, 1::2]\n",
    "green = a[0:3,2]\n",
    "blue = a[0::2,4]\n",
    "red = a[0, 1:4]\n",
    "\n",
    "print(\"yellow:\",yellow,\"\\ncyan:\",cyan,\"\\ngreen:\",green,\"\\nblue:\",blue,\"\\nred:\",red)"
   ]
  },
  {
   "cell_type": "markdown",
   "metadata": {},
   "source": [
    "### Class exercise: cube\n",
    "![](http://127.0.0.1:8888/files/images/cube.png)\n",
    "1. Slice out [12 13 14] from the above cube using only one slice. e.g: a[:,:,:]\n",
    "2. Slice out [3 12 21].\n",
    "3. Slice out all y-values where x is 2 and z is 0."
   ]
  },
  {
   "cell_type": "code",
   "execution_count": 25,
   "metadata": {
    "scrolled": true
   },
   "outputs": [
    {
     "name": "stdout",
     "output_type": "stream",
     "text": [
      "1 task: \n",
      " [12 13 14] \n",
      "---------\n",
      "2 task: \n",
      " [ 3 12 21] \n",
      "---------\n",
      "3 task: \n",
      " [2 5 8] \n",
      "---------\n"
     ]
    }
   ],
   "source": [
    "a = np.arange(0, 27).reshape((3, 3, 3)) # = (z, y, x)\n",
    "\n",
    "print('1 task: \\n',a[1,1,:],'\\n---------')\n",
    "print('2 task: \\n',a[:,1,0],'\\n---------')\n",
    "print('3 task: \\n',a[0,:,2],'\\n---------')"
   ]
  },
  {
   "cell_type": "markdown",
   "metadata": {},
   "source": [
    "### Class exercise: masking\n",
    "- For the dataset: `data = np.arange(1,101).reshape(10,10)`\n",
    "  - apply a mask that will return only the even numbers\n",
    "  - using `np.where()` return only numbers that ends with 6\n"
   ]
  },
  {
   "cell_type": "code",
   "execution_count": 54,
   "metadata": {},
   "outputs": [
    {
     "name": "stdout",
     "output_type": "stream",
     "text": [
      "[[  1   2   3   4   5   6   7   8   9  10]\n",
      " [ 11  12  13  14  15  16  17  18  19  20]\n",
      " [ 21  22  23  24  25  26  27  28  29  30]\n",
      " [ 31  32  33  34  35  36  37  38  39  40]\n",
      " [ 41  42  43  44  45  46  47  48  49  50]\n",
      " [ 51  52  53  54  55  56  57  58  59  60]\n",
      " [ 61  62  63  64  65  66  67  68  69  70]\n",
      " [ 71  72  73  74  75  76  77  78  79  80]\n",
      " [ 81  82  83  84  85  86  87  88  89  90]\n",
      " [ 91  92  93  94  95  96  97  98  99 100]]\n",
      "[  2   4   6   8  10  12  14  16  18  20  22  24  26  28  30  32  34  36\n",
      "  38  40  42  44  46  48  50  52  54  56  58  60  62  64  66  68  70  72\n",
      "  74  76  78  80  82  84  86  88  90  92  94  96  98 100]\n",
      "[ 6 16 26 36 46 56 66 76 86 96]\n"
     ]
    }
   ],
   "source": [
    "data = np.arange(1,101).reshape(10,10)\n",
    "print(data)\n",
    "datab = data %2==0\n",
    "print(data[datab])\n",
    "datac = np.where(data%10 == 6)\n",
    "print(data[datac])"
   ]
  },
  {
   "cell_type": "markdown",
   "metadata": {},
   "source": [
    "## Exercise numpy and csv\n",
    "\n",
    "1. load the csv file: befkbhalderstatkode.csv into a numpy ndarray\n",
    "2. How many german children of 0 years were there in Copenhagen in 2015?\n",
    "3. create a function that can take any combination of the 4 parameters:AAR,BYDEL,ALDER,STATKODE and return population data\n",
    "4. create a new function like previous so that it can sum values for all ages if age is not provided to the function\n",
    "5. further add functionality to sum values if citizenship or area was not provided to function.\n",
    "6. create a new function that can also give average values for each year if year whas not provided.\n",
    "7. create a function, that given year and nationality can return which area had the most of these nationals by that year. Test it by finding out which area had the most Moroccan people in both 1992 and 2015\n",
    "8. Find the Area(s) where fewest foreingers lived in Copenhagen in 1992 and 2015 respectively\n",
    "9. Find out what age most French people have in 2015"
   ]
  },
  {
   "cell_type": "code",
   "execution_count": 70,
   "metadata": {},
   "outputs": [
    {
     "name": "stdout",
     "output_type": "stream",
     "text": [
      "['AAR', 'BYDEL', 'ALDER', 'STATKODE', 'PERSONER']\n",
      "['2015', '1', '0', '5100', '614']\n",
      "['2015', '1', '0', '5104', '2']\n",
      "['2015', '1', '0', '5106', '1']\n",
      "['2015', '1', '0', '5110', '1']\n",
      "['2015', '1', '0', '5120', '4']\n",
      "['2015', '1', '0', '5126', '1']\n",
      "['2015', '1', '0', '5130', '5']\n",
      "['2015', '1', '0', '5140', '3']\n",
      "['2015', '1', '0', '5150', '5']\n",
      "['2015', '1', '0', '5154', '1']\n",
      "['2015', '1', '0', '5164', '3']\n",
      "['2015', '1', '0', '5170', '3']\n",
      "['2015', '1', '0', '5180', '3']\n",
      "['2015', '1', '0', '5228', '1']\n",
      "['2015', '1', '0', '5306', '2']\n",
      "['2015', '1', '0', '5390', '1']\n",
      "['2015', '1', '0', '5448', '1']\n",
      "['2015', '1', '0', '5464', '1']\n",
      "['2015', '1', '0', '5472', '1']\n"
     ]
    }
   ],
   "source": [
    "#task 1\n",
    "with open(\"../../data/befkbhalderstatkode.csv\") as f:\n",
    "    kkdata = f.readlines()\n",
    "    for line in kkdata[:20]:\n",
    "        print(line.strip().split(','))\n",
    "    bef_stats_df = np.genfromtxt(filename, delimiter=',', dtype=np.uint, skip_header=1)\n",
    "    dd = bef_stats_df\n",
    "    \n",
    "    "
   ]
  },
  {
   "cell_type": "code",
   "execution_count": 74,
   "metadata": {},
   "outputs": [
    {
     "name": "stdout",
     "output_type": "stream",
     "text": [
      "[[2015    1    0 5180    3]\n",
      " [2015    2    0 5180    5]\n",
      " [2015    3    0 5180    7]\n",
      " [2015    4    0 5180    1]\n",
      " [2015    5    0 5180    1]\n",
      " [2015    6    0 5180    2]\n",
      " [2015    8    0 5180    2]\n",
      " [2015    9    0 5180    6]\n",
      " [2015   10    0 5180    8]]\n",
      "sum all the cph areas\n",
      " 35\n"
     ]
    }
   ],
   "source": [
    "    #task 2\n",
    "    bef_stats_df = np.genfromtxt(kkdata, delimiter=',', dtype=np.uint, skip_header=1)\n",
    "    dd = bef_stats_df\n",
    "    \n",
    "    mask = (dd[:,0] == 2015) & (dd[:,2] == 0) & (dd[:,3] == 5180)\n",
    "    print(dd[mask])\n",
    "    print('sum all the cph areas\\n',np.sum(dd[mask][:,4]))"
   ]
  },
  {
   "cell_type": "code",
   "execution_count": 83,
   "metadata": {},
   "outputs": [
    {
     "name": "stdout",
     "output_type": "stream",
     "text": [
      "[[2015    1   18 5100  378]]\n"
     ]
    }
   ],
   "source": [
    "#task 3\n",
    "def population_data(aar, bydel, alder, statkode):\n",
    "    mask = (dd[:, 0] == aar) & (dd[:,1] == bydel) & (dd[:,2] == alder) & (dd[:,3] == statkode)\n",
    "    return dd[mask]\n",
    "\n",
    "\n",
    "print(population_data(2015, 1, 18, 5100))\n"
   ]
  }
 ],
 "metadata": {
  "kernelspec": {
   "display_name": "Python 3",
   "language": "python",
   "name": "python3"
  },
  "language_info": {
   "codemirror_mode": {
    "name": "ipython",
    "version": 3
   },
   "file_extension": ".py",
   "mimetype": "text/x-python",
   "name": "python",
   "nbconvert_exporter": "python",
   "pygments_lexer": "ipython3",
   "version": "3.7.6"
  }
 },
 "nbformat": 4,
 "nbformat_minor": 4
}
