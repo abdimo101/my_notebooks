{
 "cells": [
  {
   "cell_type": "markdown",
   "metadata": {},
   "source": [
    "# Exercises\n",
    "\n",
    "  1. Create a Python module, which consists of a class TextContainer. The class must have a constructor which allow objects to be initialized with a text ala: `tc = TextContainer(my_text)`. The class must implement the following methods for computing statistics on texts.\n",
    "    * Counting the amount of words used in a text.\n",
    "    * Counting the amount of chars used in a text.\n",
    "    * Counting the amount of letters, where letters are all ASCII letter characters, see \n",
    "    ```python\n",
    "    import string\n",
    "    string.ascii_letters  # returns 'abcdefghijklmnopqrstuvwxyzABCDEFGHIJKLMNOPQRSTUVWXYZ'\n",
    "    ```\n",
    "    * Remove all punctuation characters, see\n",
    "    ```python\n",
    "    import string\n",
    "    string.punctuation  # returns '!\"#$%&\\'()*+,-./:;<=>?@[\\\\]^_`{|}~'\n",
    "    ```"
   ]
  },
  {
   "cell_type": "code",
   "execution_count": 65,
   "metadata": {},
   "outputs": [
    {
     "name": "stdout",
     "output_type": "stream",
     "text": [
      "1\n",
      "13\n",
      "5\n",
      "tekst123443\n"
     ]
    }
   ],
   "source": [
    "import string\n",
    "class TextContainer:\n",
    "    def __init__(self, my_text):\n",
    "        self.my_text = my_text\n",
    "        \n",
    "    def counting_words(self):\n",
    "        return (len(self.my_text.split()))\n",
    "    def counting_chars(self):\n",
    "        return (len(self.my_text))\n",
    "    def ascii_letters(self):\n",
    "        return (len([letter for letter in self.my_text if letter in string.ascii_letters]))\n",
    "    def removepunc(self):\n",
    "        return_text = \"\"\n",
    "        for letter in self.my_text:\n",
    "            if letter not in string.punctuation:\n",
    "                return_text += letter\n",
    "        \n",
    "        return return_text\n",
    "       \n",
    "        \n",
    "     \n",
    "tc = TextContainer(\"!!tekst123443\")\n",
    "\n",
    "print(tc.counting_words())\n",
    "print(tc.counting_chars())\n",
    "print(tc.ascii_letters())\n",
    "print(tc.removepunc())\n",
    "\n",
    "\n",
    "\n",
    "        \n",
    "\n"
   ]
  }
 ],
 "metadata": {
  "kernelspec": {
   "display_name": "Python 3",
   "language": "python",
   "name": "python3"
  },
  "language_info": {
   "codemirror_mode": {
    "name": "ipython",
    "version": 3
   },
   "file_extension": ".py",
   "mimetype": "text/x-python",
   "name": "python",
   "nbconvert_exporter": "python",
   "pygments_lexer": "ipython3",
   "version": "3.7.6"
  }
 },
 "nbformat": 4,
 "nbformat_minor": 4
}
