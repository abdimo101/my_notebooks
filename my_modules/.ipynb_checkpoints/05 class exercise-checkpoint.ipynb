{
 "cells": [
  {
   "cell_type": "code",
   "execution_count": 11,
   "metadata": {},
   "outputs": [],
   "source": [
    "import pandas as pd\n",
    "import numpy as np\n"
   ]
  },
  {
   "cell_type": "code",
   "execution_count": 3,
   "metadata": {},
   "outputs": [
    {
     "name": "stdout",
     "output_type": "stream",
     "text": [
      "AAR,BYDEL,ALDER,STATKODE,PERSONER\r",
      "\r\n",
      "2015,1,0,5100,614\r",
      "\r\n",
      "2015,1,0,5104,2\r",
      "\r\n",
      "2015,1,0,5106,1\r",
      "\r\n",
      "2015,1,0,5110,1\r",
      "\r\n",
      "2015,1,0,5120,4\r",
      "\r\n",
      "2015,1,0,5126,1\r",
      "\r\n",
      "2015,1,0,5130,5\r",
      "\r\n",
      "2015,1,0,5140,3\r",
      "\r\n",
      "2015,1,0,5150,5\r",
      "\r\n"
     ]
    }
   ],
   "source": [
    "!head ../../data/befkbhalderstatkode.csv"
   ]
  },
  {
   "cell_type": "markdown",
   "metadata": {},
   "source": [
    "## 01 Class exercise slicing dataframe\n",
    "Use this data:\n",
    "```python\n",
    "data = np.array([['','Col1','Col2','col3'],\n",
    "                ['Row1',1,2,3],\n",
    "                ['Row2',4,5,6],\n",
    "                ['Row3',7,8,9]])\n",
    "```\n",
    "1. Create a DataFrame (wrap the data above in a pandas DataFrame in a way that printing the dataframe and its index and column attributes gives this result)  \n",
    "`pd.DataFrame(data=data[1:4,1:4], columns=data[0,1:4], index=data[1:4,0])`  \n",
    "\n",
    "``` \n",
    "     Col1 Col2 col3  \n",
    "Row1    1    2    3\n",
    "Row2    4    5    6\n",
    "Row3    7    8    9\n",
    "\n",
    "Index(['Row1', 'Row2', 'Row3'], dtype='object')\n",
    "Index(['Col1', 'Col2', 'col3'], dtype='object')\n",
    "```\n",
    "\n",
    "2. Make slices of data:\n",
    "   1. second column using column name\n",
    "   2. third column using column index (.iloc[])\n",
    "   3. slice element at third row of second column (use .iloc())"
   ]
  },
  {
   "cell_type": "code",
   "execution_count": 38,
   "metadata": {},
   "outputs": [
    {
     "name": "stdout",
     "output_type": "stream",
     "text": [
      "1\n",
      "     Col1 Col2 col3\n",
      "Row1    1    2    3\n",
      "Row2    4    5    6\n",
      "Row3    7    8    9\n",
      "2A:\n",
      "Row1    2\n",
      "Row2    5\n",
      "Row3    8\n",
      "Name: Col2, dtype: object\n",
      "2B:\n",
      "Row1    3\n",
      "Row2    6\n",
      "Row3    9\n",
      "Name: col3, dtype: object\n",
      "2C:\n",
      "8\n"
     ]
    }
   ],
   "source": [
    "data = np.array([['','Col1','Col2','col3'],\n",
    "                ['Row1',1,2,3],\n",
    "                ['Row2',4,5,6],\n",
    "                ['Row3',7,8,9]])\n",
    "\n",
    "df =  pd.DataFrame(data=data[1:4,1:4], columns=data[0,1:4], index=data[1:4,0])\n",
    "\n",
    "print(\"1\")\n",
    "print(df)\n",
    "print(\"2A:\")\n",
    "print(df['Col2'])\n",
    "\n",
    "print(\"2B:\")\n",
    "print(df.iloc[:,2])\n",
    "\n",
    "print(\"2C:\")\n",
    "print(df.iloc[2,1])"
   ]
  },
  {
   "cell_type": "markdown",
   "metadata": {},
   "source": [
    "## 02 Exercise Pandas Data Series\n",
    "The CO2 Emission data set above is not updated since 2014\n",
    "1. Create a Pandas Series with emission data from 2014 for each country or region\n",
    "2. Find the 10 Countries/Regions with the highest emissions in 2014 and show emission numbers (reverse sorted)\n",
    "3. Remove if you can those rows that are not countries (regions and aggregated groups) (hint:  [ISO 3166, Alpha-3 country codes](https://www.iban.com/country-codes), a csv file can be found here: `/data/country_codes.csv`)\n",
    "    - Find the 10 countries with highest emissions in 2014\n",
    "4. Plot the emissions of China and USA over time respectively"
   ]
  },
  {
   "cell_type": "code",
   "execution_count": 113,
   "metadata": {},
   "outputs": [
    {
     "name": "stdout",
     "output_type": "stream",
     "text": [
      "Exercise 2.1\n",
      "Country Code\n",
      "ABW       872.746\n",
      "AFG      8467.103\n",
      "AGO     44851.077\n",
      "ALB      5489.499\n",
      "AND       462.042\n",
      "          ...    \n",
      "XKX      7260.660\n",
      "YEM     24667.909\n",
      "ZAF    484495.041\n",
      "ZMB      4503.076\n",
      "ZWE     12115.768\n",
      "Length: 264, dtype: float64\n",
      "Exercise 2.2\n",
      "Country Code\n",
      "IBT    2.155943e+07\n",
      "LMY    2.110046e+07\n",
      "MIC    2.091510e+07\n",
      "IBD    2.073197e+07\n",
      "UMC    1.693238e+07\n",
      "LTE    1.509443e+07\n",
      "EAS    1.413107e+07\n",
      "HIC    1.298539e+07\n",
      "OED    1.220186e+07\n",
      "EAP    1.155527e+07\n",
      "dtype: float64\n",
      "Exercise 2.3\n",
      "                   0    1     2    3\n",
      "0       Afghanistan   AF   AFG     4\n",
      "1           Albania   AL   ALB     8\n",
      "2           Algeria   DZ   DZA    12\n",
      "3    American Samoa   AS   ASM    16\n",
      "4           Andorra   AD   AND    20\n",
      "..               ...  ...   ...  ...\n",
      "244  Western Sahara   EH   ESH   732\n",
      "245           Yemen   YE   YEM   887\n",
      "246          Zambia   ZM   ZMB   894\n",
      "247        Zimbabwe   ZW   ZWE   716\n",
      "248   Åland Islands   AX   ALA   248\n",
      "\n",
      "[249 rows x 4 columns]\n",
      "sorted\n"
     ]
    },
    {
     "data": {
      "text/plain": [
       "38                  China\n",
       "249         United States\n",
       "107                 India\n",
       "200    Russian Federation\n",
       "117                 Japan\n",
       "53                Germany\n",
       "110    Iran, Islamic Rep.\n",
       "203          Saudi Arabia\n",
       "124           Korea, Rep.\n",
       "33                 Canada\n",
       "Name: Country Name, dtype: object"
      ]
     },
     "execution_count": 113,
     "metadata": {},
     "output_type": "execute_result"
    }
   ],
   "source": [
    "data = pd.read_csv('../../data/API_EN.ATM.CO2E.KT_DS2_en_csv_v2_1345584.csv', skiprows=4)\n",
    "print(\"Exercise 2.1\")\n",
    "data2014 = pd.Series(data=data['2014'].values, index=data['Country Code'])\n",
    "print(data2014)\n",
    "print(\"Exercise 2.2\")\n",
    "data2014sorted = data2014.sort_values(ascending=False)\n",
    "print(data2014sorted.iloc[0:10])\n",
    "print(\"Exercise 2.3\")\n",
    "country_codes = pd.read_csv('../../data/country_codes.csv', sep='\\t', header=None)\n",
    "\n",
    "print(country_codes)\n",
    "onlycountries = data[data['Country Code'].isin(country_codes.iloc[:][2].str.strip().tolist())]\n",
    "onlycountriessorted = onlycountries.sort_values(ascending=False, by='2014')\n",
    "print(\"sorted\")\n",
    "onlycountriessorted.iloc[0:10]['Country Name']\n"
   ]
  }
 ],
 "metadata": {
  "kernelspec": {
   "display_name": "Python 3",
   "language": "python",
   "name": "python3"
  },
  "language_info": {
   "codemirror_mode": {
    "name": "ipython",
    "version": 3
   },
   "file_extension": ".py",
   "mimetype": "text/x-python",
   "name": "python",
   "nbconvert_exporter": "python",
   "pygments_lexer": "ipython3",
   "version": "3.7.6"
  }
 },
 "nbformat": 4,
 "nbformat_minor": 4
}
