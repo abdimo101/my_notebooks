{
 "cells": [
  {
   "cell_type": "markdown",
   "metadata": {},
   "source": [
    "## Exercise\n",
    "1. Create a class called: Person with a constructor that takes a string: name.\n",
    "2. Check if name contains only letters and each new word starts with a capital letter. If this is not the case raise an InvalidArgumentException (your own exception here)\n",
    "\n",
    "3. Test your new class by making 2 instances (one with a name, that follows the rules and another that violates them)"
   ]
  },
  {
   "cell_type": "code",
   "execution_count": 11,
   "metadata": {},
   "outputs": [],
   "source": [
    "\n",
    "\n",
    "class Person:\n",
    "\n",
    "    def __init__(self, name= \"\"):\n",
    "        self.name = name\n",
    "    \n",
    "    def follow_rule(self):\n",
    "        return self.name[0].isupper()\n",
    "         \n",
    "    def violate_rule(self):\n",
    "\n",
    "\n"
   ]
  }
 ],
 "metadata": {
  "kernelspec": {
   "display_name": "Python 3",
   "language": "python",
   "name": "python3"
  },
  "language_info": {
   "codemirror_mode": {
    "name": "ipython",
    "version": 3
   },
   "file_extension": ".py",
   "mimetype": "text/x-python",
   "name": "python",
   "nbconvert_exporter": "python",
   "pygments_lexer": "ipython3",
   "version": "3.7.6"
  }
 },
 "nbformat": 4,
 "nbformat_minor": 4
}
