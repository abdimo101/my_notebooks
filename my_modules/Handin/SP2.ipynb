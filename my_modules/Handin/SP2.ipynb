{
 "cells": [
  {
   "cell_type": "markdown",
   "metadata": {},
   "source": [
    "1. Lav en metode der tjekker om det er fredag ved at webscrape på følgende link (Metoden skal returnere Ja eller Nej)\n",
    "https://www.erdetfredag.dk/\n",
    "\n",
    "\n",
    "2. Lav en metode der returnerer top 5 mest populære opskrifter fra nemlig.com.\n",
    "https://www.nemlig.com/\n",
    "\n",
    "3. Lav en metode der kan finde den totale pris af disse fire udvalgte varer på nemlig.com\n",
    "(Gær, Minimælk, Banan, Tomatpasta)\n",
    "\n",
    "4. Lav et barchart over alle Womens Fiction bøgerne på følgende hjemmeside. Sorter efter pris.\n",
    "http://books.toscrape.com/index.html"
   ]
  },
  {
   "cell_type": "code",
   "execution_count": 4,
   "metadata": {},
   "outputs": [
    {
     "name": "stdout",
     "output_type": "stream",
     "text": [
      "Nej\n"
     ]
    }
   ],
   "source": [
    "import selenium\n",
    "from selenium import webdriver\n",
    "from selenium.webdriver.firefox.options import Options\n",
    "\n",
    "options = Options()\n",
    "options.headless = True\n",
    "browser = webdriver.Firefox(options=options)\n",
    "\n",
    "#1\n",
    "def isItFriday():\n",
    "    browser.get('https://www.erdetfredag.dk') \n",
    "    browser.implicitly_wait(2)\n",
    "    res = browser.find_element_by_id('answer').text\n",
    "    return print(res)\n",
    "    browser.close()\n",
    "isItFriday()\n",
    "\n"
   ]
  },
  {
   "cell_type": "code",
   "execution_count": null,
   "metadata": {},
   "outputs": [],
   "source": [
    "#2\n",
    "import selenium\n",
    "from selenium import webdriver\n",
    "from selenium.webdriver.firefox.options import Options\n",
    "\n",
    "options = Options()\n",
    "options.headless = True\n",
    "browser = webdriver.Firefox(options=options)\n",
    "\n",
    "def top5_recipes():\n",
    "    browser.get('https://www.nemlig.com/opskrifter/mest-populaere')\n",
    "    browser.implicitly_wait(3)\n",
    "    \n",
    "    recipes = []\n",
    "    \n",
    "    for x in range(4):\n",
    "            recipe_name = browser.find_element_by_xpath('//*[@id=\"page-content\"]/div/leftmenupage/section/div[1]/render-partial/div/recipelist-showall/div/div/div[1]/recipelist-item[{x}]/div/div/div[2]/div[1]').text\n",
    "            recipes.append(recipe_name)\n",
    "    return print(recipes)\n",
    "    browser.close()\n",
    "\n",
    "top5_recipes()"
   ]
  },
  {
   "cell_type": "code",
   "execution_count": null,
   "metadata": {},
   "outputs": [],
   "source": [
    "#3\n",
    "def total_price():\n",
    "    browser.get('https://www.nemlig.com')\n",
    "    browser.implicitly_wait(2)\n",
    "    \n",
    "    gær_int = float(browser.find_element_by_xpath('/html/body/div[4]/main/div/div/div/leftmenupage/section/div[11]/render-partial/div/productlist-onerow/div/div/div/div/div/productlist-item[2]/a/div/div[3]/pricecontainer/div/div[2]/span').text)\n",
    "    gær_deci = float(browser.find_element_byxpath('/html/body/div[4]/main/div/div/div/leftmenupage/section/div[11]/render-partial/div/productlist-onerow/div/div/div/div/div/productlist-item[2]/a/div/div[3]/pricecontainer/div/div[2]/sup').text)/100\n",
    "    gær_price = gær_int + gær_deci \n",
    "    \n",
    "    minimælk_int = float(browser.find_element_by_xpath('/html/body/div[4]/main/div/div/div/leftmenupage/section/div[11]/render-partial/div/productlist-onerow/div/div/div/div/div/productlist-item[1]/a/div/div[3]/pricecontainer/div/div[2]/span').text)\n",
    "    minimælk_deci = float(browser.find_element_by_xpath('/html/body/div[4]/main/div/div/div/leftmenupage/section/div[11]/render-partial/div/productlist-onerow/div/div/div/div/div/productlist-item[1]/a/div/div[3]/pricecontainer/div/div[2]/sup').text)/100\n",
    "    minimælk_price= minimælk_int + minimælk_deci\n",
    "    \n",
    "    banan_int = float(browser.find_element_by_xpath('/html/body/searchoverlay/div/div/div/searchresult/div[1]/div[3]/div[1]/div[1]/div[1]/productlist-item[2]/a/div/div[3]/pricecontainer/div/div[2]/span').text)\n",
    "    banan_deci = float(browser.find_element_by_xpath('/html/body/searchoverlay/div/div/div/searchresult/div[1]/div[3]/div[1]/div[1]/div[1]/productlist-item[2]/a/div/div[3]/pricecontainer/div/div[2]/sup').text)/100\n",
    "    banan_price = banan_int + banan_deci\n",
    "    \n",
    "    tomatpasta_int = float(browser.find_element_by_xpath('/html/body/searchoverlay/div/div/div/searchresult/div[1]/div[3]/div[1]/div[1]/div[1]/productlist-item[1]/a/div/div[3]/pricecontainer/div/div[2]/span').text)\n",
    "    tomatpasta_deci = float(browser.find_element_by_xpath('/html/body/searchoverlay/div/div/div/searchresult/div[1]/div[3]/div[1]/div[1]/div[1]/productlist-item[1]/a/div/div[3]/pricecontainer/div/div[2]/sup').text)/100\n",
    "    tomatpasta_price = tomatpasta_int + tomatpasta_deci\n",
    "    \n",
    "    total = gær_price + minimælk_price + banan_price + tomatpasta_price\n",
    "    \n",
    "    print(total)\n",
    "    browser.close()\n",
    "total_price()\n",
    "    "
   ]
  },
  {
   "cell_type": "code",
   "execution_count": 3,
   "metadata": {},
   "outputs": [
    {
     "name": "stdout",
     "output_type": "stream",
     "text": [
      "All products | Books to Scrape - Sandbox\n"
     ]
    }
   ],
   "source": [
    "#4 Not done\n",
    "import selenium\n",
    "from selenium import webdriver\n",
    "from selenium.webdriver.firefox.options import Options\n",
    "\n",
    "options = Options()\n",
    "options.headless = True\n",
    "browser = webdriver.Firefox(options=options)\n",
    "\n",
    "browser.get('http://books.toscrape.com/index.html')\n",
    "#testing\n",
    "print(browser.title)\n",
    "browser.close()\n"
   ]
  }
 ],
 "metadata": {
  "kernelspec": {
   "display_name": "Python 3",
   "language": "python",
   "name": "python3"
  },
  "language_info": {
   "codemirror_mode": {
    "name": "ipython",
    "version": 3
   },
   "file_extension": ".py",
   "mimetype": "text/x-python",
   "name": "python",
   "nbconvert_exporter": "python",
   "pygments_lexer": "ipython3",
   "version": "3.7.6"
  }
 },
 "nbformat": 4,
 "nbformat_minor": 4
}
